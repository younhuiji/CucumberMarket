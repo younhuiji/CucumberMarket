{
  "nbformat": 4,
  "nbformat_minor": 0,
  "metadata": {
    "colab": {
      "provenance": [],
      "authorship_tag": "ABX9TyOr9TdUauiU7k229p9E64Q6",
      "include_colab_link": true
    },
    "kernelspec": {
      "name": "python3",
      "display_name": "Python 3"
    },
    "language_info": {
      "name": "python"
    }
  },
  "cells": [
    {
      "cell_type": "markdown",
      "metadata": {
        "id": "view-in-github",
        "colab_type": "text"
      },
      "source": [
        "<a href=\"https://colab.research.google.com/github/younhuiji/CucumberMarket/blob/main/ml03_regression.ipynb\" target=\"_parent\"><img src=\"https://colab.research.google.com/assets/colab-badge.svg\" alt=\"Open In Colab\"/></a>"
      ]
    },
    {
      "cell_type": "markdown",
      "source": [
        "* Machine Learning(기계 학습)\n",
        "    * 지도 학습(Supervised learning): 레이블이 있는 데이터를 학습.\n",
        "        * 분류(classfication): 클래스를 분류\n",
        "        * 회귀(regression): 숫자를 예측.\n",
        "    * 비지도 학습(Unsupervised learning): 레이블이 없는 데이터를 학습.\n"
      ],
      "metadata": {
        "id": "i32sjUW6QcBD"
      }
    },
    {
      "cell_type": "markdown",
      "source": [
        "# 문제 정의\n",
        "\n",
        "fish 데이터 셋에서 물고기의 무게(Weight)를 다른 변수(특성)들을 사용해서 예측.\n",
        "\n",
        "* Perch(농어)의 무게를 길이만으로 예측.\n",
        "    * Weight(관심변수, 종속변수, 타겟, 레이블) ~ Length(독립 변수, 특성)\n",
        "* Perch의 무게를 다른 모든 특성들을 사용해서 예측.\n",
        "    * Weight ~ Length + Diagonal + Height + Width"
      ],
      "metadata": {
        "id": "kkv94IreRhKD"
      }
    },
    {
      "cell_type": "markdown",
      "source": [
        "# Imports"
      ],
      "metadata": {
        "id": "Rx09kRIBWQuB"
      }
    },
    {
      "cell_type": "code",
      "execution_count": null,
      "metadata": {
        "id": "yCWcH_NQQQO0"
      },
      "outputs": [],
      "source": [
        "import numpy as np\n",
        "import pandas as pd\n",
        "import matplotlib.pyplot as plt\n",
        "import seaborn as sns\n",
        "\n",
        "from sklearn.model_selection import train_test_split # 훈련/테스트 셋 분리\n",
        "from sklearn.preprocessing import StandardScaler # 특성 스케일링(표준화)\n",
        "from sklearn.preprocessing import PolynomialFeatures # 다차항을 추가해주는 변환기\n",
        "from sklearn.pipeline import Pipeline # 변환기와 예측기를 연결해주는 클래스\n",
        "from sklearn.neighbors import KNeighborsRegressor # KNN 알고리즘을 사용한 숫자 예측\n",
        "from sklearn.linear_model import LinearRegression # 선형 회귀를 사용한 숫자 예측\n",
        "from sklearn.metrics import mean_absolute_error, mean_squared_error, r2_score # 회귀 평가 지표들"
      ]
    },
    {
      "cell_type": "markdown",
      "source": [
        "## 데이터 준비"
      ],
      "metadata": {
        "id": "nKxS0XmKYWUw"
      }
    },
    {
      "cell_type": "code",
      "source": [
        "# CSV 파일 경로\n",
        "fish_file = 'https://github.com/JakeOh/202208_itw_java134_lab_python/raw/main/fish.csv'"
      ],
      "metadata": {
        "id": "oFGOpjPIYSI8"
      },
      "execution_count": null,
      "outputs": []
    },
    {
      "cell_type": "code",
      "source": [
        "# DataFrame 생성\n",
        "fish_df = pd.read_csv(fish_file)"
      ],
      "metadata": {
        "id": "iRSTfVgkYkm5"
      },
      "execution_count": null,
      "outputs": []
    },
    {
      "cell_type": "code",
      "source": [
        "fish_df.head()"
      ],
      "metadata": {
        "colab": {
          "base_uri": "https://localhost:8080/",
          "height": 206
        },
        "id": "yWjPxKqyYtz9",
        "outputId": "f0e407ec-6b27-4dd6-d647-906f3850e4d9"
      },
      "execution_count": null,
      "outputs": [
        {
          "output_type": "execute_result",
          "data": {
            "text/plain": [
              "  Species  Weight  Length  Diagonal   Height   Width\n",
              "0   Bream   242.0    25.4      30.0  11.5200  4.0200\n",
              "1   Bream   290.0    26.3      31.2  12.4800  4.3056\n",
              "2   Bream   340.0    26.5      31.1  12.3778  4.6961\n",
              "3   Bream   363.0    29.0      33.5  12.7300  4.4555\n",
              "4   Bream   430.0    29.0      34.0  12.4440  5.1340"
            ],
            "text/html": [
              "\n",
              "  <div id=\"df-8c8f0135-3a54-497d-a2d3-890f37cf7f87\">\n",
              "    <div class=\"colab-df-container\">\n",
              "      <div>\n",
              "<style scoped>\n",
              "    .dataframe tbody tr th:only-of-type {\n",
              "        vertical-align: middle;\n",
              "    }\n",
              "\n",
              "    .dataframe tbody tr th {\n",
              "        vertical-align: top;\n",
              "    }\n",
              "\n",
              "    .dataframe thead th {\n",
              "        text-align: right;\n",
              "    }\n",
              "</style>\n",
              "<table border=\"1\" class=\"dataframe\">\n",
              "  <thead>\n",
              "    <tr style=\"text-align: right;\">\n",
              "      <th></th>\n",
              "      <th>Species</th>\n",
              "      <th>Weight</th>\n",
              "      <th>Length</th>\n",
              "      <th>Diagonal</th>\n",
              "      <th>Height</th>\n",
              "      <th>Width</th>\n",
              "    </tr>\n",
              "  </thead>\n",
              "  <tbody>\n",
              "    <tr>\n",
              "      <th>0</th>\n",
              "      <td>Bream</td>\n",
              "      <td>242.0</td>\n",
              "      <td>25.4</td>\n",
              "      <td>30.0</td>\n",
              "      <td>11.5200</td>\n",
              "      <td>4.0200</td>\n",
              "    </tr>\n",
              "    <tr>\n",
              "      <th>1</th>\n",
              "      <td>Bream</td>\n",
              "      <td>290.0</td>\n",
              "      <td>26.3</td>\n",
              "      <td>31.2</td>\n",
              "      <td>12.4800</td>\n",
              "      <td>4.3056</td>\n",
              "    </tr>\n",
              "    <tr>\n",
              "      <th>2</th>\n",
              "      <td>Bream</td>\n",
              "      <td>340.0</td>\n",
              "      <td>26.5</td>\n",
              "      <td>31.1</td>\n",
              "      <td>12.3778</td>\n",
              "      <td>4.6961</td>\n",
              "    </tr>\n",
              "    <tr>\n",
              "      <th>3</th>\n",
              "      <td>Bream</td>\n",
              "      <td>363.0</td>\n",
              "      <td>29.0</td>\n",
              "      <td>33.5</td>\n",
              "      <td>12.7300</td>\n",
              "      <td>4.4555</td>\n",
              "    </tr>\n",
              "    <tr>\n",
              "      <th>4</th>\n",
              "      <td>Bream</td>\n",
              "      <td>430.0</td>\n",
              "      <td>29.0</td>\n",
              "      <td>34.0</td>\n",
              "      <td>12.4440</td>\n",
              "      <td>5.1340</td>\n",
              "    </tr>\n",
              "  </tbody>\n",
              "</table>\n",
              "</div>\n",
              "      <button class=\"colab-df-convert\" onclick=\"convertToInteractive('df-8c8f0135-3a54-497d-a2d3-890f37cf7f87')\"\n",
              "              title=\"Convert this dataframe to an interactive table.\"\n",
              "              style=\"display:none;\">\n",
              "        \n",
              "  <svg xmlns=\"http://www.w3.org/2000/svg\" height=\"24px\"viewBox=\"0 0 24 24\"\n",
              "       width=\"24px\">\n",
              "    <path d=\"M0 0h24v24H0V0z\" fill=\"none\"/>\n",
              "    <path d=\"M18.56 5.44l.94 2.06.94-2.06 2.06-.94-2.06-.94-.94-2.06-.94 2.06-2.06.94zm-11 1L8.5 8.5l.94-2.06 2.06-.94-2.06-.94L8.5 2.5l-.94 2.06-2.06.94zm10 10l.94 2.06.94-2.06 2.06-.94-2.06-.94-.94-2.06-.94 2.06-2.06.94z\"/><path d=\"M17.41 7.96l-1.37-1.37c-.4-.4-.92-.59-1.43-.59-.52 0-1.04.2-1.43.59L10.3 9.45l-7.72 7.72c-.78.78-.78 2.05 0 2.83L4 21.41c.39.39.9.59 1.41.59.51 0 1.02-.2 1.41-.59l7.78-7.78 2.81-2.81c.8-.78.8-2.07 0-2.86zM5.41 20L4 18.59l7.72-7.72 1.47 1.35L5.41 20z\"/>\n",
              "  </svg>\n",
              "      </button>\n",
              "      \n",
              "  <style>\n",
              "    .colab-df-container {\n",
              "      display:flex;\n",
              "      flex-wrap:wrap;\n",
              "      gap: 12px;\n",
              "    }\n",
              "\n",
              "    .colab-df-convert {\n",
              "      background-color: #E8F0FE;\n",
              "      border: none;\n",
              "      border-radius: 50%;\n",
              "      cursor: pointer;\n",
              "      display: none;\n",
              "      fill: #1967D2;\n",
              "      height: 32px;\n",
              "      padding: 0 0 0 0;\n",
              "      width: 32px;\n",
              "    }\n",
              "\n",
              "    .colab-df-convert:hover {\n",
              "      background-color: #E2EBFA;\n",
              "      box-shadow: 0px 1px 2px rgba(60, 64, 67, 0.3), 0px 1px 3px 1px rgba(60, 64, 67, 0.15);\n",
              "      fill: #174EA6;\n",
              "    }\n",
              "\n",
              "    [theme=dark] .colab-df-convert {\n",
              "      background-color: #3B4455;\n",
              "      fill: #D2E3FC;\n",
              "    }\n",
              "\n",
              "    [theme=dark] .colab-df-convert:hover {\n",
              "      background-color: #434B5C;\n",
              "      box-shadow: 0px 1px 3px 1px rgba(0, 0, 0, 0.15);\n",
              "      filter: drop-shadow(0px 1px 2px rgba(0, 0, 0, 0.3));\n",
              "      fill: #FFFFFF;\n",
              "    }\n",
              "  </style>\n",
              "\n",
              "      <script>\n",
              "        const buttonEl =\n",
              "          document.querySelector('#df-8c8f0135-3a54-497d-a2d3-890f37cf7f87 button.colab-df-convert');\n",
              "        buttonEl.style.display =\n",
              "          google.colab.kernel.accessAllowed ? 'block' : 'none';\n",
              "\n",
              "        async function convertToInteractive(key) {\n",
              "          const element = document.querySelector('#df-8c8f0135-3a54-497d-a2d3-890f37cf7f87');\n",
              "          const dataTable =\n",
              "            await google.colab.kernel.invokeFunction('convertToInteractive',\n",
              "                                                     [key], {});\n",
              "          if (!dataTable) return;\n",
              "\n",
              "          const docLinkHtml = 'Like what you see? Visit the ' +\n",
              "            '<a target=\"_blank\" href=https://colab.research.google.com/notebooks/data_table.ipynb>data table notebook</a>'\n",
              "            + ' to learn more about interactive tables.';\n",
              "          element.innerHTML = '';\n",
              "          dataTable['output_type'] = 'display_data';\n",
              "          await google.colab.output.renderOutput(dataTable, element);\n",
              "          const docLink = document.createElement('div');\n",
              "          docLink.innerHTML = docLinkHtml;\n",
              "          element.appendChild(docLink);\n",
              "        }\n",
              "      </script>\n",
              "    </div>\n",
              "  </div>\n",
              "  "
            ]
          },
          "metadata": {},
          "execution_count": 4
        }
      ]
    },
    {
      "cell_type": "code",
      "source": [
        "fish_df.Species.value_counts()"
      ],
      "metadata": {
        "colab": {
          "base_uri": "https://localhost:8080/"
        },
        "id": "f1osJkD1Yvr9",
        "outputId": "db2c2aae-b9e1-44c6-ffd9-8487383182ac"
      },
      "execution_count": null,
      "outputs": [
        {
          "output_type": "execute_result",
          "data": {
            "text/plain": [
              "Perch        56\n",
              "Bream        35\n",
              "Roach        20\n",
              "Pike         17\n",
              "Smelt        14\n",
              "Parkki       11\n",
              "Whitefish     6\n",
              "Name: Species, dtype: int64"
            ]
          },
          "metadata": {},
          "execution_count": 5
        }
      ]
    },
    {
      "cell_type": "markdown",
      "source": [
        "# Perch의 Weight를 Length로 예측."
      ],
      "metadata": {
        "id": "eaj60VV1ZyxZ"
      }
    },
    {
      "cell_type": "code",
      "source": [
        "perch = fish_df[fish_df.Species == 'Perch']\n",
        "print(perch)"
      ],
      "metadata": {
        "colab": {
          "base_uri": "https://localhost:8080/"
        },
        "id": "aQCEiXq2Z6iy",
        "outputId": "fcf14e5e-552a-4297-bb52-81303b3d6d81"
      },
      "execution_count": null,
      "outputs": [
        {
          "output_type": "stream",
          "name": "stdout",
          "text": [
            "    Species  Weight  Length  Diagonal   Height   Width\n",
            "72    Perch     5.9     8.4       8.8   2.1120  1.4080\n",
            "73    Perch    32.0    13.7      14.7   3.5280  1.9992\n",
            "74    Perch    40.0    15.0      16.0   3.8240  2.4320\n",
            "75    Perch    51.5    16.2      17.2   4.5924  2.6316\n",
            "76    Perch    70.0    17.4      18.5   4.5880  2.9415\n",
            "77    Perch   100.0    18.0      19.2   5.2224  3.3216\n",
            "78    Perch    78.0    18.7      19.4   5.1992  3.1234\n",
            "79    Perch    80.0    19.0      20.2   5.6358  3.0502\n",
            "80    Perch    85.0    19.6      20.8   5.1376  3.0368\n",
            "81    Perch    85.0    20.0      21.0   5.0820  2.7720\n",
            "82    Perch   110.0    21.0      22.5   5.6925  3.5550\n",
            "83    Perch   115.0    21.0      22.5   5.9175  3.3075\n",
            "84    Perch   125.0    21.0      22.5   5.6925  3.6675\n",
            "85    Perch   130.0    21.3      22.8   6.3840  3.5340\n",
            "86    Perch   120.0    22.0      23.5   6.1100  3.4075\n",
            "87    Perch   120.0    22.0      23.5   5.6400  3.5250\n",
            "88    Perch   130.0    22.0      23.5   6.1100  3.5250\n",
            "89    Perch   135.0    22.0      23.5   5.8750  3.5250\n",
            "90    Perch   110.0    22.0      23.5   5.5225  3.9950\n",
            "91    Perch   130.0    22.5      24.0   5.8560  3.6240\n",
            "92    Perch   150.0    22.5      24.0   6.7920  3.6240\n",
            "93    Perch   145.0    22.7      24.2   5.9532  3.6300\n",
            "94    Perch   150.0    23.0      24.5   5.2185  3.6260\n",
            "95    Perch   170.0    23.5      25.0   6.2750  3.7250\n",
            "96    Perch   225.0    24.0      25.5   7.2930  3.7230\n",
            "97    Perch   145.0    24.0      25.5   6.3750  3.8250\n",
            "98    Perch   188.0    24.6      26.2   6.7334  4.1658\n",
            "99    Perch   180.0    25.0      26.5   6.4395  3.6835\n",
            "100   Perch   197.0    25.6      27.0   6.5610  4.2390\n",
            "101   Perch   218.0    26.5      28.0   7.1680  4.1440\n",
            "102   Perch   300.0    27.3      28.7   8.3230  5.1373\n",
            "103   Perch   260.0    27.5      28.9   7.1672  4.3350\n",
            "104   Perch   265.0    27.5      28.9   7.0516  4.3350\n",
            "105   Perch   250.0    27.5      28.9   7.2828  4.5662\n",
            "106   Perch   250.0    28.0      29.4   7.8204  4.2042\n",
            "107   Perch   300.0    28.7      30.1   7.5852  4.6354\n",
            "108   Perch   320.0    30.0      31.6   7.6156  4.7716\n",
            "109   Perch   514.0    32.8      34.0  10.0300  6.0180\n",
            "110   Perch   556.0    34.5      36.5  10.2565  6.3875\n",
            "111   Perch   840.0    35.0      37.3  11.4884  7.7957\n",
            "112   Perch   685.0    36.5      39.0  10.8810  6.8640\n",
            "113   Perch   700.0    36.0      38.3  10.6091  6.7408\n",
            "114   Perch   700.0    37.0      39.4  10.8350  6.2646\n",
            "115   Perch   690.0    37.0      39.3  10.5717  6.3666\n",
            "116   Perch   900.0    39.0      41.4  11.1366  7.4934\n",
            "117   Perch   650.0    39.0      41.4  11.1366  6.0030\n",
            "118   Perch   820.0    39.0      41.3  12.4313  7.3514\n",
            "119   Perch   850.0    40.0      42.3  11.9286  7.1064\n",
            "120   Perch   900.0    40.0      42.5  11.7300  7.2250\n",
            "121   Perch  1015.0    40.0      42.4  12.3808  7.4624\n",
            "122   Perch   820.0    40.0      42.5  11.1350  6.6300\n",
            "123   Perch  1100.0    42.0      44.6  12.8002  6.8684\n",
            "124   Perch  1000.0    43.0      45.2  11.9328  7.2772\n",
            "125   Perch  1100.0    43.0      45.5  12.5125  7.4165\n",
            "126   Perch  1000.0    43.5      46.0  12.6040  8.1420\n",
            "127   Perch  1000.0    44.0      46.6  12.4888  7.5958\n"
          ]
        }
      ]
    },
    {
      "cell_type": "code",
      "source": [
        "# X: 특성 배열(2d-array), y: 타켓 배열(1d-array)\n",
        "X = perch[['Length']].values #> (56, 1) shape의 2d-array\n",
        "y = perch['Weight'].values #> (56, ) shape의 1d-array"
      ],
      "metadata": {
        "id": "N8FSndC5Y5is"
      },
      "execution_count": null,
      "outputs": []
    },
    {
      "cell_type": "code",
      "source": [
        "print(X)\n",
        "print(y)"
      ],
      "metadata": {
        "colab": {
          "base_uri": "https://localhost:8080/"
        },
        "id": "HF5elXgdacCF",
        "outputId": "8c96eae6-a1d6-4512-9baa-c6ec056f39fc"
      },
      "execution_count": null,
      "outputs": [
        {
          "output_type": "stream",
          "name": "stdout",
          "text": [
            "[[ 8.4]\n",
            " [13.7]\n",
            " [15. ]\n",
            " [16.2]\n",
            " [17.4]\n",
            " [18. ]\n",
            " [18.7]\n",
            " [19. ]\n",
            " [19.6]\n",
            " [20. ]\n",
            " [21. ]\n",
            " [21. ]\n",
            " [21. ]\n",
            " [21.3]\n",
            " [22. ]\n",
            " [22. ]\n",
            " [22. ]\n",
            " [22. ]\n",
            " [22. ]\n",
            " [22.5]\n",
            " [22.5]\n",
            " [22.7]\n",
            " [23. ]\n",
            " [23.5]\n",
            " [24. ]\n",
            " [24. ]\n",
            " [24.6]\n",
            " [25. ]\n",
            " [25.6]\n",
            " [26.5]\n",
            " [27.3]\n",
            " [27.5]\n",
            " [27.5]\n",
            " [27.5]\n",
            " [28. ]\n",
            " [28.7]\n",
            " [30. ]\n",
            " [32.8]\n",
            " [34.5]\n",
            " [35. ]\n",
            " [36.5]\n",
            " [36. ]\n",
            " [37. ]\n",
            " [37. ]\n",
            " [39. ]\n",
            " [39. ]\n",
            " [39. ]\n",
            " [40. ]\n",
            " [40. ]\n",
            " [40. ]\n",
            " [40. ]\n",
            " [42. ]\n",
            " [43. ]\n",
            " [43. ]\n",
            " [43.5]\n",
            " [44. ]]\n",
            "[   5.9   32.    40.    51.5   70.   100.    78.    80.    85.    85.\n",
            "  110.   115.   125.   130.   120.   120.   130.   135.   110.   130.\n",
            "  150.   145.   150.   170.   225.   145.   188.   180.   197.   218.\n",
            "  300.   260.   265.   250.   250.   300.   320.   514.   556.   840.\n",
            "  685.   700.   700.   690.   900.   650.   820.   850.   900.  1015.\n",
            "  820.  1100.  1000.  1100.  1000.  1000. ]\n"
          ]
        }
      ]
    },
    {
      "cell_type": "markdown",
      "source": [
        "## train/test split"
      ],
      "metadata": {
        "id": "m1NWs9etbQlR"
      }
    },
    {
      "cell_type": "code",
      "source": [
        "X_tr, X_te, y_tr, y_te = train_test_split(X, y, \n",
        "                                          test_size=0.25,\n",
        "                                          random_state=42)"
      ],
      "metadata": {
        "id": "VDco0Qzwadfd"
      },
      "execution_count": null,
      "outputs": []
    },
    {
      "cell_type": "code",
      "source": [
        "X_tr.shape, X_te.shape, y_tr.shape, y_te.shape"
      ],
      "metadata": {
        "colab": {
          "base_uri": "https://localhost:8080/"
        },
        "id": "W-c-9EPlcTqf",
        "outputId": "6c9b54b2-d020-41a0-90d3-b99c7a2ec4df"
      },
      "execution_count": null,
      "outputs": [
        {
          "output_type": "execute_result",
          "data": {
            "text/plain": [
              "((42, 1), (14, 1), (42,), (14,))"
            ]
          },
          "metadata": {},
          "execution_count": 10
        }
      ]
    },
    {
      "cell_type": "code",
      "source": [
        "# Weight ~ Length 시각화. 훈련/테스트 샛의 색깔을 다르게 표현.\n",
        "plt.scatter(X_tr.flatten(), y_tr, alpha=0.5, label='Train set' )\n",
        "plt.scatter(X_te.flatten(), y_te, alpha=0.5, label='Test set')\n",
        "\n",
        "plt.legend()\n",
        "plt.xlabel('Length(cm)')\n",
        "plt.ylabel('Weight(g)')\n",
        "plt.grid()\n",
        "plt.show()"
      ],
      "metadata": {
        "colab": {
          "base_uri": "https://localhost:8080/",
          "height": 279
        },
        "id": "iCZ2B251ccPq",
        "outputId": "354d12f1-58dc-48c2-9b60-8a44fd90977f"
      },
      "execution_count": null,
      "outputs": [
        {
          "output_type": "display_data",
          "data": {
            "text/plain": [
              "<Figure size 432x288 with 1 Axes>"
            ],
            "image/png": "[encoded data removed]"
          },
          "metadata": {
            "needs_background": "light"
          }
        }
      ]
    },
    {
      "cell_type": "markdown",
      "source": [
        "## KNN Regressor 모델 훈련, 평가\n",
        "\n",
        "1. KNN 모델 생성\n",
        "1. KNN 모델을 훈련 셋으로 훈련\n",
        "1. 평가\n",
        "    * 훈련 셋 평가\n",
        "    * 테스트 셋 평가\n"
      ],
      "metadata": {
        "id": "rTH1vir7eqWg"
      }
    },
    {
      "cell_type": "code",
      "source": [
        "knn_reg = KNeighborsRegressor() # ML 모델 생성"
      ],
      "metadata": {
        "id": "wB6nedkrdHj9"
      },
      "execution_count": null,
      "outputs": []
    },
    {
      "cell_type": "code",
      "source": [
        "knn_reg.fit(X_tr, y_tr) # 모델 훈련- 지도 학습"
      ],
      "metadata": {
        "colab": {
          "base_uri": "https://localhost:8080/"
        },
        "id": "DUgx8oDSfGV1",
        "outputId": "c4a6a06a-2a41-4c11-8de9-b8cd5bc43324"
      },
      "execution_count": null,
      "outputs": [
        {
          "output_type": "execute_result",
          "data": {
            "text/plain": [
              "KNeighborsRegressor()"
            ]
          },
          "metadata": {},
          "execution_count": 13
        }
      ]
    },
    {
      "cell_type": "code",
      "source": [
        "y_tr_pred = knn_reg.predict(X_tr) "
      ],
      "metadata": {
        "id": "6zD_NqskfP25"
      },
      "execution_count": null,
      "outputs": []
    },
    {
      "cell_type": "code",
      "source": [
        "print(y_tr_pred) # 훈련 셋의 (무게) 예측값"
      ],
      "metadata": {
        "colab": {
          "base_uri": "https://localhost:8080/"
        },
        "id": "QIdNA6qaffpq",
        "outputId": "a7c96699-062a-4f66-a32e-f378096276a0"
      },
      "execution_count": null,
      "outputs": [
        {
          "output_type": "stream",
          "name": "stdout",
          "text": [
            "[  88.6  123.    79.6   70.6  723.   193.   847.   847.  1010.   123.\n",
            "   95.   123.   174.   248.  1010.   847.   174.   113.   248.   847.\n",
            "  659.   224.   723.    60.   140.    60.   719.   694.2  248.   167.\n",
            "  847.   113.   168.   123.  1010.   136.    79.6  719.   123.   193.\n",
            "  990.   659. ]\n"
          ]
        }
      ]
    },
    {
      "cell_type": "code",
      "source": [
        "print(y_tr) # 훈련 셋의 (무게) 실젯값"
      ],
      "metadata": {
        "colab": {
          "base_uri": "https://localhost:8080/"
        },
        "id": "cnlC7vumfhua",
        "outputId": "14fd4e13-0eba-40b9-8ce1-ab4f09540572"
      },
      "execution_count": null,
      "outputs": [
        {
          "output_type": "stream",
          "name": "stdout",
          "text": [
            "[  85.  135.   78.   70.  700.  180.  850.  820. 1000.  120.   85.  130.\n",
            "  225.  260. 1100.  900.  145.  115.  265. 1015.  514.  218.  685.   32.\n",
            "  145.   40.  690.  840.  300.  170.  650.  110.  150.  110. 1000.  150.\n",
            "   80.  700.  120.  197. 1100.  556.]\n"
          ]
        }
      ]
    },
    {
      "cell_type": "markdown",
      "source": [
        "KNN(K-Nearest Neighbors) Regressr는 샘플에서 가장 가까운 k개의 훈련 셋의 레이블\n",
        "(타겟)들의 평균으로 숫자를 예측하는 ML 모델."
      ],
      "metadata": {
        "id": "EJWbBcrhloen"
      }
    },
    {
      "cell_type": "code",
      "source": [
        "# 첫번째 훈련 샘플에서 가장 가까운 이웃 5개의 인덱스\n",
        "indices = knn_reg.kneighbors(X_tr[0].reshape(1, -1), return_distance=False)\n",
        "print(indices)"
      ],
      "metadata": {
        "colab": {
          "base_uri": "https://localhost:8080/"
        },
        "id": "x9yqKkHbfn6-",
        "outputId": "68dc7ac1-ddb4-44ab-bd56-99986a890372"
      },
      "execution_count": null,
      "outputs": [
        {
          "output_type": "stream",
          "name": "stdout",
          "text": [
            "[[ 0 10 36  2 17]]\n"
          ]
        }
      ]
    },
    {
      "cell_type": "code",
      "source": [
        "y_tr[indices[0]].mean() # 가장 가까운 이웃 5개의 무게(타겟)들의 평균"
      ],
      "metadata": {
        "colab": {
          "base_uri": "https://localhost:8080/"
        },
        "id": "jZs8QDtPmb0X",
        "outputId": "ced77fd4-8533-445d-fce0-e194acff8fce"
      },
      "execution_count": null,
      "outputs": [
        {
          "output_type": "execute_result",
          "data": {
            "text/plain": [
              "88.6"
            ]
          },
          "metadata": {},
          "execution_count": 18
        }
      ]
    },
    {
      "cell_type": "code",
      "source": [
        "# 테스트 셋의 예측값\n",
        "y_te_pred = knn_reg.predict(X_te)\n",
        "print(y_te_pred)"
      ],
      "metadata": {
        "colab": {
          "base_uri": "https://localhost:8080/"
        },
        "id": "1cufTKTlm9QJ",
        "outputId": "2c7894d5-82f7-4e23-92b5-5ad060273fb1"
      },
      "execution_count": null,
      "outputs": [
        {
          "output_type": "stream",
          "name": "stdout",
          "text": [
            "[  60.    79.6  248.   122.   136.   847.   311.4  183.4  847.   113.\n",
            " 1010.    60.   248.   248. ]\n"
          ]
        }
      ]
    },
    {
      "cell_type": "code",
      "source": [
        "print(y_te) # 테스트 셋의 실젯값"
      ],
      "metadata": {
        "colab": {
          "base_uri": "https://localhost:8080/"
        },
        "id": "sQZnRJUFnrEq",
        "outputId": "77a627bb-d807-4337-c340-f385ac0952de"
      },
      "execution_count": null,
      "outputs": [
        {
          "output_type": "stream",
          "name": "stdout",
          "text": [
            "[   5.9  100.   250.   130.   130.   820.   320.   188.   900.   125.\n",
            " 1000.    51.5  250.   300. ]\n"
          ]
        }
      ]
    },
    {
      "cell_type": "markdown",
      "source": [
        "## 회귀 모델 평가 지표\n",
        "\n",
        "* MAE(Mean Absolute Error): 오차들의 절대값의 평균.\n",
        "* MSE(Mean Squared Error): 오차들의 제곱의 평균.\n",
        "* RMSE(Root Mean Squared Error): MSE의 제곱근.\n",
        "* MAE, MSE, RMSE는 값이 작을 수록 좋은 점수. 값이 작을 수록 더 좋은 회귀 모델.\n",
        "    * 평가 지표는 일반적으로 값이 클 수록 좋은 점수, 값이 작을 수록 나쁜 점수로 생각.\n",
        "    * 회귀에서도 오차가 작을 수록 점수가 높아지고, 오차가 클 수록 점수가 낮아지는 평가 지표를 개발 -> R2 score(결정계수)\n",
        "    * R2 score는 1에 가까울 수록 오차가 작은 모델, 작을 수록 오차가 큰 모델.\n"
      ],
      "metadata": {
        "id": "6dCSd0Vm2uTb"
      }
    },
    {
      "cell_type": "markdown",
      "source": [
        "* $ y_i $ : $i$번째 샘플의 실젯값(label)\n",
        "* $ \\hat{y_i} $ : $i$번째 샘플의 예측값\n",
        "* $ \\bar{y} $ : 타겟의 평균값\n",
        "* $ n $ : 샘플 개수\n",
        "\n",
        "* MAE(Mean Absolute Errors)\n",
        "$$\n",
        "MAE = \\frac{1}{n} \\sum_{i=1}^{n} \\lvert y_i - \\hat{y_i} \\rvert\n",
        "$$\n",
        "\n",
        "* MSE(Mean Squared Errors)\n",
        "$$\n",
        "MSE = \\frac{1}{n} \\sum_{i=1}^{n} ( y_i - \\hat{y_i} )^2\n",
        "$$\n",
        "\n",
        "* RMSE(Root Mean Squared Errors)\n",
        "$$\n",
        "RMSE = \\sqrt{ \\frac{1}{n} \\sum_{i=1}^{n} ( y_i - \\hat{y_i} )^2 }\n",
        "$$\n",
        "\n",
        "* $ R^2 $ score(Coefficient of determinant, 결정 계수)\n",
        "$$\n",
        "R^2 = 1 - \\dfrac{\\text{MSE}}{\\text{Variance}} \n",
        "    = 1 - \\dfrac{ \\sum_{i=1}^{n} (y_i - \\hat{y_i})^2 }\n",
        "                { \\sum_{i=1}^{n} (y_i - \\bar{y})^2 }\n",
        "$$\n",
        "    * 결정 계수는 최댓값이 1이 되도록 만든 평가 지표.\n",
        "    * 모델이 타겟을 오차없이 정확하게 예측하면, 실제값 - 예측값 = 0 이므로, 결정 계수는 최댓값 1이 됨.\n",
        "    * 모델이 타겟을 매우 비슷하게 예측하면, 오차가 매우 작으면 분자가 0에 가까운 값이 되므로, 결정 계수는 1보다는 작지만 1에 가까운 값이 됨.\n",
        "    * 모델이 타겟의 평균으로만 예측하는 정도라면, (분자) = (분모) 이므로, 결정 계수는 0이 됨.\n",
        "    * 모델이 타겟의 평균 정도도 예측하지 못하면(오차가 매우 크면), (분자) > (분모)일 수 있고, 그런 경우 결정 계수는 음수가 될 수 있음."
      ],
      "metadata": {
        "id": "jQlH5DW0ohqm"
      }
    },
    {
      "cell_type": "code",
      "source": [
        "# 훈련 셋 평가 지표들\n",
        "print('MAE:', mean_absolute_error(y_tr, y_tr_pred))\n",
        "print('MSE:', mean_squared_error(y_tr, y_tr_pred))\n",
        "print('RMASE:', np.sqrt(mean_squared_error(y_tr, y_tr_pred)))\n",
        "print('R2 score:', r2_score(y_tr, y_tr_pred))"
      ],
      "metadata": {
        "colab": {
          "base_uri": "https://localhost:8080/"
        },
        "id": "p6IDjotmnvrX",
        "outputId": "1041cf5c-f813-4c05-b0b2-d1bcdeb4bc5e"
      },
      "execution_count": null,
      "outputs": [
        {
          "output_type": "stream",
          "name": "stdout",
          "text": [
            "MAE: 35.76190476190476\n",
            "MSE: 3716.5161904761903\n",
            "RMASE: 60.96323638453089\n",
            "R2 score: 0.9698823289099254\n"
          ]
        }
      ]
    },
    {
      "cell_type": "code",
      "source": [
        "# 테스트 셋 평가 지표들\n",
        "print('MAE:', mean_absolute_error(y_te, y_te_pred))\n",
        "print('MSE:', mean_squared_error(y_te, y_te_pred))\n",
        "print('RMASE:', np.sqrt(mean_squared_error(y_te, y_te_pred)))\n",
        "print('R2 score:', r2_score(y_te, y_te_pred))"
      ],
      "metadata": {
        "colab": {
          "base_uri": "https://localhost:8080/"
        },
        "id": "hQphjZYPsiOB",
        "outputId": "ef825833-589c-4005-cf47-f0576a6e35f8"
      },
      "execution_count": null,
      "outputs": [
        {
          "output_type": "stream",
          "name": "stdout",
          "text": [
            "MAE: 19.157142857142862\n",
            "MSE: 721.7385714285714\n",
            "RMASE: 26.865192562655704\n",
            "R2 score: 0.992809406101064\n"
          ]
        }
      ]
    },
    {
      "cell_type": "code",
      "source": [
        "knn_reg.score(X_tr, y_tr) # 훈련 셋 점수 - KNN Regressor의 score 메서드는 결정계수를 리턴."
      ],
      "metadata": {
        "colab": {
          "base_uri": "https://localhost:8080/"
        },
        "id": "kIt-dpA3-K1o",
        "outputId": "8c723abd-a327-4272-8020-1ee1a91cfc2f"
      },
      "execution_count": null,
      "outputs": [
        {
          "output_type": "execute_result",
          "data": {
            "text/plain": [
              "0.9698823289099254"
            ]
          },
          "metadata": {},
          "execution_count": 23
        }
      ]
    },
    {
      "cell_type": "code",
      "source": [
        "knn_reg.score(X_te, y_te) # 결정 계수(R2 score)"
      ],
      "metadata": {
        "colab": {
          "base_uri": "https://localhost:8080/"
        },
        "id": "d5QqxTU_-bRT",
        "outputId": "82a48fc4-3fee-4b13-b9be-84c01f8ab49e"
      },
      "execution_count": null,
      "outputs": [
        {
          "output_type": "execute_result",
          "data": {
            "text/plain": [
              "0.992809406101064"
            ]
          },
          "metadata": {},
          "execution_count": 24
        }
      ]
    },
    {
      "cell_type": "markdown",
      "source": [
        "## 선형 회귀(Linear Regression)\n"
      ],
      "metadata": {
        "id": "yJz6fkUyQTxa"
      }
    },
    {
      "cell_type": "markdown",
      "source": [
        "머신 러닝 알골리즘: \n",
        "\n",
        "* 사례 기반 학습(instance-based learning):\n",
        "    * KNN, ...\n",
        "    * 수학적인 모델을 만들지 않고, 훈련 셋 데이터의 특징들을 사용해서 예측.\n",
        "    * outlier(이상치)들이 많은 경우에는 성능이 나빠질 수 있음.\n",
        "* 모델 기반 학습(model-based learning):\n",
        "    * Linear Regression, LogisticRegression, ...\n",
        "    * 훈련 셋을 사용해서 수학적인 모델을 만들고, 모델을 사용해서 예측."
      ],
      "metadata": {
        "id": "OxrUfW8eQbQp"
      }
    },
    {
      "cell_type": "code",
      "source": [
        "lin_reg = LinearRegression() # ML model 생성"
      ],
      "metadata": {
        "id": "LAsBgfrZ-1PI"
      },
      "execution_count": null,
      "outputs": []
    },
    {
      "cell_type": "code",
      "source": [
        "lin_reg.fit(X_tr, y_tr) # ML model 훈련 셋으로 학습시킴"
      ],
      "metadata": {
        "colab": {
          "base_uri": "https://localhost:8080/"
        },
        "id": "98T9IkKpSUpk",
        "outputId": "9f0350b4-f300-4a9f-cd1a-ea892d973df2"
      },
      "execution_count": null,
      "outputs": [
        {
          "output_type": "execute_result",
          "data": {
            "text/plain": [
              "LinearRegression()"
            ]
          },
          "metadata": {},
          "execution_count": 26
        }
      ]
    },
    {
      "cell_type": "markdown",
      "source": [
        "선형 회귀의 학습이란 \n",
        "$$\n",
        " y = a \\times x + b \n",
        "$$ 수학 모델에서 직선의 기울기(계수) a와 직선의 y절편 b를 찾는 과정."
      ],
      "metadata": {
        "id": "ztRsoUlhUJI0"
      }
    },
    {
      "cell_type": "code",
      "source": [
        "lin_reg.coef_ # coefficient: 독립변수 x에 곱해주는 계수(상수)"
      ],
      "metadata": {
        "colab": {
          "base_uri": "https://localhost:8080/"
        },
        "id": "906zT_jRSkis",
        "outputId": "f5252e94-cb6d-45cf-d6fc-2debbe5cf03b"
      },
      "execution_count": null,
      "outputs": [
        {
          "output_type": "execute_result",
          "data": {
            "text/plain": [
              "array([39.01714496])"
            ]
          },
          "metadata": {},
          "execution_count": 32
        }
      ]
    },
    {
      "cell_type": "code",
      "source": [
        "lin_reg.intercept_ # y절편: "
      ],
      "metadata": {
        "colab": {
          "base_uri": "https://localhost:8080/"
        },
        "id": "mrMpzpFyS2fj",
        "outputId": "9ee7b6b6-b9c7-4d81-ad75-f0731b62b0ac"
      },
      "execution_count": null,
      "outputs": [
        {
          "output_type": "execute_result",
          "data": {
            "text/plain": [
              "-709.0186449535477"
            ]
          },
          "metadata": {},
          "execution_count": 35
        }
      ]
    },
    {
      "cell_type": "markdown",
      "source": [
        "$$\n",
        "Weight = 39 \\times Length - 709\n",
        "$$"
      ],
      "metadata": {
        "id": "Y6LGVrMJVWQ1"
      }
    },
    {
      "cell_type": "code",
      "source": [
        "y_tr_pred = lin_reg.predict(X_tr)\n",
        "print(y_tr_pred)"
      ],
      "metadata": {
        "colab": {
          "base_uri": "https://localhost:8080/"
        },
        "id": "kxbrC7f9S51V",
        "outputId": "e89c241a-4ba7-4341-f840-1755bd19fba1"
      },
      "execution_count": null,
      "outputs": [
        {
          "output_type": "stream",
          "name": "stdout",
          "text": [
            "[  55.71739633  149.35854425   20.60196587  -30.12032259  695.59857374\n",
            "  266.40997914  851.66715359  812.65000863  968.71858848  149.35854425\n",
            "   71.32425432  149.35854425  227.39283417  363.95284155  968.71858848\n",
            "  851.66715359  227.39283417  110.34139928  363.95284155  851.66715359\n",
            "  570.74370985  324.93569658  715.10714622 -174.48375895  176.67054572\n",
            " -123.7614705   734.6157187   656.58142877  410.7734155   207.88426169\n",
            "  812.65000863  110.34139928  188.37568921  149.35854425 1007.73573345\n",
            "  168.86711673   32.30710936  734.6157187   149.35854425  289.82026612\n",
            "  929.70144352  637.07285629]\n"
          ]
        }
      ]
    },
    {
      "cell_type": "code",
      "source": [
        "39 * X_tr[:5] - 709"
      ],
      "metadata": {
        "colab": {
          "base_uri": "https://localhost:8080/"
        },
        "id": "AOLQW1T0XCCF",
        "outputId": "248beb37-b77e-44a3-f5ad-d2c5427d41f4"
      },
      "execution_count": null,
      "outputs": [
        {
          "output_type": "execute_result",
          "data": {
            "text/plain": [
              "array([[ 55.4],\n",
              "       [149. ],\n",
              "       [ 20.3],\n",
              "       [-30.4],\n",
              "       [695. ]])"
            ]
          },
          "metadata": {},
          "execution_count": 41
        }
      ]
    },
    {
      "cell_type": "code",
      "source": [
        "print(y_tr)"
      ],
      "metadata": {
        "colab": {
          "base_uri": "https://localhost:8080/"
        },
        "id": "NmwifJzoVsC9",
        "outputId": "19905c19-45e3-47e3-a602-94a57812c59b"
      },
      "execution_count": null,
      "outputs": [
        {
          "output_type": "stream",
          "name": "stdout",
          "text": [
            "[  85.  135.   78.   70.  700.  180.  850.  820. 1000.  120.   85.  130.\n",
            "  225.  260. 1100.  900.  145.  115.  265. 1015.  514.  218.  685.   32.\n",
            "  145.   40.  690.  840.  300.  170.  650.  110.  150.  110. 1000.  150.\n",
            "   80.  700.  120.  197. 1100.  556.]\n"
          ]
        }
      ]
    },
    {
      "cell_type": "code",
      "source": [
        "mse = mean_squared_error(y_tr, y_tr_pred)\n",
        "print(mse)\n",
        "print(np.sqrt(mse))\n",
        "print(r2_score(y_tr, y_tr_pred))\n",
        "#> KNN의 결과보다 평균적으로 오차가 더 크다."
      ],
      "metadata": {
        "colab": {
          "base_uri": "https://localhost:8080/"
        },
        "id": "KiNc-xjFVzZm",
        "outputId": "eeb56015-0615-4a75-b296-d3491388b326"
      },
      "execution_count": null,
      "outputs": [
        {
          "output_type": "stream",
          "name": "stdout",
          "text": [
            "7422.953552609781\n",
            "86.1565641875869\n",
            "0.939846333997604\n"
          ]
        }
      ]
    },
    {
      "cell_type": "code",
      "source": [
        "y_te_pred = lin_reg.predict(X_te) # 테스트 셋에서의 예측값"
      ],
      "metadata": {
        "id": "bTVg1cGBWfKO"
      },
      "execution_count": null,
      "outputs": []
    },
    {
      "cell_type": "code",
      "source": [
        "print(y_te_pred)"
      ],
      "metadata": {
        "colab": {
          "base_uri": "https://localhost:8080/"
        },
        "id": "z9W292qDXnNY",
        "outputId": "d7f0a501-2674-4fde-e069-04b1826dd694"
      },
      "execution_count": null,
      "outputs": [
        {
          "output_type": "stream",
          "name": "stdout",
          "text": [
            "[-381.27462726   -6.71003561  363.95284155  122.04654277  168.86711673\n",
            "  851.66715359  461.49570396  250.80312115  812.65000863  110.34139928\n",
            "  988.22716096  -76.94089654  383.46141403  356.14941255]\n"
          ]
        }
      ]
    },
    {
      "cell_type": "code",
      "source": [
        "print(y_te) # 테스트 셋 실젯값(무게)"
      ],
      "metadata": {
        "colab": {
          "base_uri": "https://localhost:8080/"
        },
        "id": "krUT_qThXqln",
        "outputId": "5fc52d32-3826-453e-b6ab-3734e9f61386"
      },
      "execution_count": null,
      "outputs": [
        {
          "output_type": "stream",
          "name": "stdout",
          "text": [
            "[   5.9  100.   250.   130.   130.   820.   320.   188.   900.   125.\n",
            " 1000.    51.5  250.   300. ]\n"
          ]
        }
      ]
    },
    {
      "cell_type": "code",
      "source": [
        "mse = mean_squared_error(y_te, y_te_pred)\n",
        "print(mse) # MSE\n",
        "print(np.sqrt(mse)) # RUSE\n",
        "print(r2_score(y_te, y_te_pred))"
      ],
      "metadata": {
        "colab": {
          "base_uri": "https://localhost:8080/"
        },
        "id": "AS5IGp7yXyY7",
        "outputId": "60709b7d-a5fb-4060-ab81-af0bae08f3a7"
      },
      "execution_count": null,
      "outputs": [
        {
          "output_type": "stream",
          "name": "stdout",
          "text": [
            "17590.265977889187\n",
            "132.6283000640858\n",
            "0.8247503123313558\n"
          ]
        }
      ]
    },
    {
      "cell_type": "code",
      "source": [
        "# 훈련 셋 산점도\n",
        "plt.scatter(X_tr.ravel(), y_tr, alpha=0.5, label='Train set')\n",
        "# 태스트 셋 산점도\n",
        "plt.scatter(X_te.ravel(), y_te, alpha=0.5, label='Test set')\n",
        "\n",
        "# 선형 회귀 모델(직선 y = ax + b) 시각화\n",
        "xs = np.arange(0, 50, 0.01)\n",
        "a = lin_reg.coef_[0]\n",
        "b = lin_reg.intercept_\n",
        "ys = a * xs + b\n",
        "plt.plot(xs, ys, 'r-', label='Linear regression')\n",
        "\n",
        "plt.legend()\n",
        "plt.grid()\n",
        "plt.xlabel('Length(cm)')\n",
        "plt.ylabel('Weigth(g)')\n",
        "plt.show()"
      ],
      "metadata": {
        "colab": {
          "base_uri": "https://localhost:8080/",
          "height": 279
        },
        "id": "T4dHjaa4YNmO",
        "outputId": "dc58fddd-dc65-4491-cd46-66e01dcde56d"
      },
      "execution_count": null,
      "outputs": [
        {
          "output_type": "display_data",
          "data": {
            "text/plain": [
              "<Figure size 432x288 with 1 Axes>"
            ],
            "image/png": "[encoded data removed]"
          },
          "metadata": {
            "needs_background": "light"
          }
        }
      ]
    },
    {
      "cell_type": "markdown",
      "source": [
        "## 2차항을 포함하는 선형 회귀"
      ],
      "metadata": {
        "id": "yafflYiOeppp"
      }
    },
    {
      "cell_type": "code",
      "source": [
        "X_tr[:5] # 훈련 셋에서 첫 5마리 물고기의 길이()"
      ],
      "metadata": {
        "colab": {
          "base_uri": "https://localhost:8080/"
        },
        "id": "8FunMNdqYstg",
        "outputId": "fcdf65da-e7c6-4ff6-8013-73a54703b2b2"
      },
      "execution_count": null,
      "outputs": [
        {
          "output_type": "execute_result",
          "data": {
            "text/plain": [
              "array([[19.6],\n",
              "       [22. ],\n",
              "       [18.7],\n",
              "       [17.4],\n",
              "       [36. ]])"
            ]
          },
          "metadata": {},
          "execution_count": 54
        }
      ]
    },
    {
      "cell_type": "code",
      "source": [
        "X_tr_poly = np.c_[X_tr ** 2, X_tr]\n",
        "X_tr_poly[:5]"
      ],
      "metadata": {
        "colab": {
          "base_uri": "https://localhost:8080/"
        },
        "id": "jM9SZjhcfsBZ",
        "outputId": "3d112926-251b-4f7e-94df-ef3ef0c16634"
      },
      "execution_count": null,
      "outputs": [
        {
          "output_type": "execute_result",
          "data": {
            "text/plain": [
              "array([[ 384.16,   19.6 ],\n",
              "       [ 484.  ,   22.  ],\n",
              "       [ 349.69,   18.7 ],\n",
              "       [ 302.76,   17.4 ],\n",
              "       [1296.  ,   36.  ]])"
            ]
          },
          "metadata": {},
          "execution_count": 55
        }
      ]
    },
    {
      "cell_type": "markdown",
      "source": [
        "Scikit-Learn 패키지의 클래스:\n",
        "\n",
        "* 변환기(transformer)\n",
        "    * StandardScaler, MinMaxScaler, PolynominalFeature, ...\n",
        "    * fit, transform, fit_transform 메서드를 가지고 있음.\n",
        "* 예측기(estimator)\n",
        "    * 머신 러닝 알고리즘 클래스: KNeighborsClassifier, KNeighborsRegressor, ...\n",
        "    * fit, predict, score 메서드를 가지고 있음.\n",
        "    "
      ],
      "metadata": {
        "id": "s5bqCs3fimfL"
      }
    },
    {
      "cell_type": "markdown",
      "source": [
        "PolynominalFeatures 클래스를 사용한 다차항 추가"
      ],
      "metadata": {
        "id": "OJTW3pqSig7L"
      }
    },
    {
      "cell_type": "code",
      "source": [
        "poly_features = PolynomialFeatures(include_bias=False)\n",
        "X_tr_poly = poly_features.fit_transform(X_tr)\n",
        "X_tr_poly[:5]"
      ],
      "metadata": {
        "colab": {
          "base_uri": "https://localhost:8080/"
        },
        "id": "c8qbUV4AgAHr",
        "outputId": "7da28443-936d-4dc3-cc75-f37db6ef1575"
      },
      "execution_count": null,
      "outputs": [
        {
          "output_type": "execute_result",
          "data": {
            "text/plain": [
              "array([[  19.6 ,  384.16],\n",
              "       [  22.  ,  484.  ],\n",
              "       [  18.7 ,  349.69],\n",
              "       [  17.4 ,  302.76],\n",
              "       [  36.  , 1296.  ]])"
            ]
          },
          "metadata": {},
          "execution_count": 56
        }
      ]
    },
    {
      "cell_type": "code",
      "source": [
        "X_te_poly = poly_features.transform(X_te)\n",
        "X_te_poly[:5]"
      ],
      "metadata": {
        "colab": {
          "base_uri": "https://localhost:8080/"
        },
        "id": "AL4i08CHiG77",
        "outputId": "6b863a93-986e-432f-fa89-ea46fa965311"
      },
      "execution_count": null,
      "outputs": [
        {
          "output_type": "execute_result",
          "data": {
            "text/plain": [
              "array([[  8.4 ,  70.56],\n",
              "       [ 18.  , 324.  ],\n",
              "       [ 27.5 , 756.25],\n",
              "       [ 21.3 , 453.69],\n",
              "       [ 22.5 , 506.25]])"
            ]
          },
          "metadata": {},
          "execution_count": 57
        }
      ]
    },
    {
      "cell_type": "code",
      "source": [
        "lin_reg = LinearRegression() # 모델 생성\n",
        "lin_reg.fit(X_tr_poly, y_tr) # 모델 훈련"
      ],
      "metadata": {
        "colab": {
          "base_uri": "https://localhost:8080/"
        },
        "id": "tRksmFkbiaDP",
        "outputId": "1219649c-c692-48b1-c351-79e800c60445"
      },
      "execution_count": null,
      "outputs": [
        {
          "output_type": "execute_result",
          "data": {
            "text/plain": [
              "LinearRegression()"
            ]
          },
          "metadata": {},
          "execution_count": 58
        }
      ]
    },
    {
      "cell_type": "code",
      "source": [
        "coefs = lin_reg.coef_ # 1, 2차항에 곱해지는 계수들\n",
        "print(coefs)"
      ],
      "metadata": {
        "colab": {
          "base_uri": "https://localhost:8080/"
        },
        "id": "UWXP_oF6kRDB",
        "outputId": "5faed214-cd8c-4a3b-f385-4da6bf33b6d2"
      },
      "execution_count": null,
      "outputs": [
        {
          "output_type": "stream",
          "name": "stdout",
          "text": [
            "[-21.55792498   1.01433211]\n"
          ]
        }
      ]
    },
    {
      "cell_type": "code",
      "source": [
        "intercept = lin_reg.intercept_ # y절편(y축과 만나는 점)\n",
        "print(intercept)"
      ],
      "metadata": {
        "colab": {
          "base_uri": "https://localhost:8080/"
        },
        "id": "Tu-zidHokY94",
        "outputId": "e2872b63-fcac-49fc-904f-cfc59b3b115d"
      },
      "execution_count": null,
      "outputs": [
        {
          "output_type": "stream",
          "name": "stdout",
          "text": [
            "116.05021078278395\n"
          ]
        }
      ]
    },
    {
      "cell_type": "markdown",
      "source": [
        "2차항을 포함하는 선형 회귀 모델의 학습 결과:\n",
        "$$\n",
        "y = w_0 + w_1 \\times x + w_2 \\times x^2 \n",
        "$$"
      ],
      "metadata": {
        "id": "jDUIaCfwkxM1"
      }
    },
    {
      "cell_type": "code",
      "source": [
        "y_tr_pred = lin_reg.predict(X_tr_poly) # 훈련 셋 예측값"
      ],
      "metadata": {
        "id": "oY7To_NgkuVt"
      },
      "execution_count": null,
      "outputs": []
    },
    {
      "cell_type": "code",
      "source": [
        "print(y_tr_pred)"
      ],
      "metadata": {
        "colab": {
          "base_uri": "https://localhost:8080/"
        },
        "id": "N9SZf2QLmiK4",
        "outputId": "28f25647-4263-45d6-b206-43bcfd437d4e"
      },
      "execution_count": null,
      "outputs": [
        {
          "output_type": "stream",
          "name": "stdout",
          "text": [
            "[  83.18070434  132.71260219   67.61880901   48.04150559  654.5393253\n",
            "  211.05965467  876.66458663  818.09027497 1064.55950693  132.71260219\n",
            "   90.62455496  132.71260219  182.91530629  290.29593158 1064.55950693\n",
            "  876.66458663  182.91530629  110.65424646  290.29593158  876.66458663\n",
            "  500.20932803  257.07992265  680.52990177   11.08663218  149.3605064\n",
            "   20.90606071  707.0276443   604.07967051  332.83297906  169.60388118\n",
            "  818.09027497  110.65424646  156.79962213  132.71260219 1131.24847547\n",
            "  144.50252913   72.62352767  707.0276443   132.71260219  228.92002253\n",
            "  999.89920261  579.6105922 ]\n"
          ]
        }
      ]
    },
    {
      "cell_type": "code",
      "source": [
        "print(y_tr)"
      ],
      "metadata": {
        "colab": {
          "base_uri": "https://localhost:8080/"
        },
        "id": "jgjSc1QXmo9X",
        "outputId": "c07be25a-c633-4eff-8591-62cb2844bc21"
      },
      "execution_count": null,
      "outputs": [
        {
          "output_type": "stream",
          "name": "stdout",
          "text": [
            "[  85.  135.   78.   70.  700.  180.  850.  820. 1000.  120.   85.  130.\n",
            "  225.  260. 1100.  900.  145.  115.  265. 1015.  514.  218.  685.   32.\n",
            "  145.   40.  690.  840.  300.  170.  650.  110.  150.  110. 1000.  150.\n",
            "   80.  700.  120.  197. 1100.  556.]\n"
          ]
        }
      ]
    },
    {
      "cell_type": "code",
      "source": [
        "mse = mean_squared_error(y_tr, y_tr_pred)\n",
        "print(mse)\n",
        "print(np.sqrt(mse))\n",
        "print(r2_score(y_tr, y_tr_pred))"
      ],
      "metadata": {
        "colab": {
          "base_uri": "https://localhost:8080/"
        },
        "id": "tT25LXPBmtGF",
        "outputId": "1d526bcd-4529-4655-b840-80d0f8130987"
      },
      "execution_count": null,
      "outputs": [
        {
          "output_type": "stream",
          "name": "stdout",
          "text": [
            "3617.991740363965\n",
            "60.14974430838393\n",
            "0.9706807451768623\n"
          ]
        }
      ]
    },
    {
      "cell_type": "code",
      "source": [
        "# 테스트 셋 평가\n",
        "y_te_pred = lin_reg.predict(X_te_poly) # 테스트 셋 예측값\n",
        "mse = mean_squared_error(y_te, y_te_pred)\n",
        "print(mse)\n",
        "print(np.sqrt(mse))\n",
        "print(r2_score(y_te, y_te_pred))"
      ],
      "metadata": {
        "colab": {
          "base_uri": "https://localhost:8080/"
        },
        "id": "9nAQRt_5nIv_",
        "outputId": "9c03ce26-e98d-4ff5-bc99-dd6ec88840d4"
      },
      "execution_count": null,
      "outputs": [
        {
          "output_type": "stream",
          "name": "stdout",
          "text": [
            "2248.9974694392668\n",
            "47.42359612512812\n",
            "0.9775935108325122\n"
          ]
        }
      ]
    },
    {
      "cell_type": "code",
      "source": [
        "# 훈련 셋 산점도\n",
        "plt.scatter(X_tr.ravel(), y_tr, alpha=0.5, label='Train set')\n",
        "# 태스트 셋 산점도\n",
        "plt.scatter(X_te.ravel(), y_te, alpha=0.5, label='Test set')\n",
        "\n",
        "# 선형 회귀 모델(직선 y = w0 + w1 * x + w2 * x^2) 시각화\n",
        "xs = np.arange(0, 50, 0.001)\n",
        "ys = intercept + coefs[0] * xs + coefs[1] * (xs **2 )\n",
        "plt.plot(xs, ys, 'r-', label='Linear regression')\n",
        "\n",
        "plt.legend()\n",
        "plt.grid()\n",
        "plt.xlabel('Length(cm)')\n",
        "plt.ylabel('Weigth(g)')\n",
        "plt.show()"
      ],
      "metadata": {
        "colab": {
          "base_uri": "https://localhost:8080/",
          "height": 279
        },
        "id": "Ttm56j0Bnp-C",
        "outputId": "a24ad293-95cc-4366-89c3-521e137efcf9"
      },
      "execution_count": null,
      "outputs": [
        {
          "output_type": "display_data",
          "data": {
            "text/plain": [
              "<Figure size 432x288 with 1 Axes>"
            ],
            "image/png": "[encoded data removed]"
          },
          "metadata": {
            "needs_background": "light"
          }
        }
      ]
    },
    {
      "cell_type": "markdown",
      "source": [
        "# 모든 특성을 사용한 선형 회귀"
      ],
      "metadata": {
        "id": "AG0n7mp8vHQV"
      }
    },
    {
      "cell_type": "code",
      "source": [
        "perch.head()"
      ],
      "metadata": {
        "colab": {
          "base_uri": "https://localhost:8080/",
          "height": 206
        },
        "id": "k57r6KJYvQgF",
        "outputId": "1c372244-8f5e-463e-ee80-398caa2d7ce1"
      },
      "execution_count": null,
      "outputs": [
        {
          "output_type": "execute_result",
          "data": {
            "text/plain": [
              "   Species  Weight  Length  Diagonal  Height   Width\n",
              "72   Perch     5.9     8.4       8.8  2.1120  1.4080\n",
              "73   Perch    32.0    13.7      14.7  3.5280  1.9992\n",
              "74   Perch    40.0    15.0      16.0  3.8240  2.4320\n",
              "75   Perch    51.5    16.2      17.2  4.5924  2.6316\n",
              "76   Perch    70.0    17.4      18.5  4.5880  2.9415"
            ],
            "text/html": [
              "\n",
              "  <div id=\"df-9496fc4c-d4b1-4cf0-be65-753448dad025\">\n",
              "    <div class=\"colab-df-container\">\n",
              "      <div>\n",
              "<style scoped>\n",
              "    .dataframe tbody tr th:only-of-type {\n",
              "        vertical-align: middle;\n",
              "    }\n",
              "\n",
              "    .dataframe tbody tr th {\n",
              "        vertical-align: top;\n",
              "    }\n",
              "\n",
              "    .dataframe thead th {\n",
              "        text-align: right;\n",
              "    }\n",
              "</style>\n",
              "<table border=\"1\" class=\"dataframe\">\n",
              "  <thead>\n",
              "    <tr style=\"text-align: right;\">\n",
              "      <th></th>\n",
              "      <th>Species</th>\n",
              "      <th>Weight</th>\n",
              "      <th>Length</th>\n",
              "      <th>Diagonal</th>\n",
              "      <th>Height</th>\n",
              "      <th>Width</th>\n",
              "    </tr>\n",
              "  </thead>\n",
              "  <tbody>\n",
              "    <tr>\n",
              "      <th>72</th>\n",
              "      <td>Perch</td>\n",
              "      <td>5.9</td>\n",
              "      <td>8.4</td>\n",
              "      <td>8.8</td>\n",
              "      <td>2.1120</td>\n",
              "      <td>1.4080</td>\n",
              "    </tr>\n",
              "    <tr>\n",
              "      <th>73</th>\n",
              "      <td>Perch</td>\n",
              "      <td>32.0</td>\n",
              "      <td>13.7</td>\n",
              "      <td>14.7</td>\n",
              "      <td>3.5280</td>\n",
              "      <td>1.9992</td>\n",
              "    </tr>\n",
              "    <tr>\n",
              "      <th>74</th>\n",
              "      <td>Perch</td>\n",
              "      <td>40.0</td>\n",
              "      <td>15.0</td>\n",
              "      <td>16.0</td>\n",
              "      <td>3.8240</td>\n",
              "      <td>2.4320</td>\n",
              "    </tr>\n",
              "    <tr>\n",
              "      <th>75</th>\n",
              "      <td>Perch</td>\n",
              "      <td>51.5</td>\n",
              "      <td>16.2</td>\n",
              "      <td>17.2</td>\n",
              "      <td>4.5924</td>\n",
              "      <td>2.6316</td>\n",
              "    </tr>\n",
              "    <tr>\n",
              "      <th>76</th>\n",
              "      <td>Perch</td>\n",
              "      <td>70.0</td>\n",
              "      <td>17.4</td>\n",
              "      <td>18.5</td>\n",
              "      <td>4.5880</td>\n",
              "      <td>2.9415</td>\n",
              "    </tr>\n",
              "  </tbody>\n",
              "</table>\n",
              "</div>\n",
              "      <button class=\"colab-df-convert\" onclick=\"convertToInteractive('df-9496fc4c-d4b1-4cf0-be65-753448dad025')\"\n",
              "              title=\"Convert this dataframe to an interactive table.\"\n",
              "              style=\"display:none;\">\n",
              "        \n",
              "  <svg xmlns=\"http://www.w3.org/2000/svg\" height=\"24px\"viewBox=\"0 0 24 24\"\n",
              "       width=\"24px\">\n",
              "    <path d=\"M0 0h24v24H0V0z\" fill=\"none\"/>\n",
              "    <path d=\"M18.56 5.44l.94 2.06.94-2.06 2.06-.94-2.06-.94-.94-2.06-.94 2.06-2.06.94zm-11 1L8.5 8.5l.94-2.06 2.06-.94-2.06-.94L8.5 2.5l-.94 2.06-2.06.94zm10 10l.94 2.06.94-2.06 2.06-.94-2.06-.94-.94-2.06-.94 2.06-2.06.94z\"/><path d=\"M17.41 7.96l-1.37-1.37c-.4-.4-.92-.59-1.43-.59-.52 0-1.04.2-1.43.59L10.3 9.45l-7.72 7.72c-.78.78-.78 2.05 0 2.83L4 21.41c.39.39.9.59 1.41.59.51 0 1.02-.2 1.41-.59l7.78-7.78 2.81-2.81c.8-.78.8-2.07 0-2.86zM5.41 20L4 18.59l7.72-7.72 1.47 1.35L5.41 20z\"/>\n",
              "  </svg>\n",
              "      </button>\n",
              "      \n",
              "  <style>\n",
              "    .colab-df-container {\n",
              "      display:flex;\n",
              "      flex-wrap:wrap;\n",
              "      gap: 12px;\n",
              "    }\n",
              "\n",
              "    .colab-df-convert {\n",
              "      background-color: #E8F0FE;\n",
              "      border: none;\n",
              "      border-radius: 50%;\n",
              "      cursor: pointer;\n",
              "      display: none;\n",
              "      fill: #1967D2;\n",
              "      height: 32px;\n",
              "      padding: 0 0 0 0;\n",
              "      width: 32px;\n",
              "    }\n",
              "\n",
              "    .colab-df-convert:hover {\n",
              "      background-color: #E2EBFA;\n",
              "      box-shadow: 0px 1px 2px rgba(60, 64, 67, 0.3), 0px 1px 3px 1px rgba(60, 64, 67, 0.15);\n",
              "      fill: #174EA6;\n",
              "    }\n",
              "\n",
              "    [theme=dark] .colab-df-convert {\n",
              "      background-color: #3B4455;\n",
              "      fill: #D2E3FC;\n",
              "    }\n",
              "\n",
              "    [theme=dark] .colab-df-convert:hover {\n",
              "      background-color: #434B5C;\n",
              "      box-shadow: 0px 1px 3px 1px rgba(0, 0, 0, 0.15);\n",
              "      filter: drop-shadow(0px 1px 2px rgba(0, 0, 0, 0.3));\n",
              "      fill: #FFFFFF;\n",
              "    }\n",
              "  </style>\n",
              "\n",
              "      <script>\n",
              "        const buttonEl =\n",
              "          document.querySelector('#df-9496fc4c-d4b1-4cf0-be65-753448dad025 button.colab-df-convert');\n",
              "        buttonEl.style.display =\n",
              "          google.colab.kernel.accessAllowed ? 'block' : 'none';\n",
              "\n",
              "        async function convertToInteractive(key) {\n",
              "          const element = document.querySelector('#df-9496fc4c-d4b1-4cf0-be65-753448dad025');\n",
              "          const dataTable =\n",
              "            await google.colab.kernel.invokeFunction('convertToInteractive',\n",
              "                                                     [key], {});\n",
              "          if (!dataTable) return;\n",
              "\n",
              "          const docLinkHtml = 'Like what you see? Visit the ' +\n",
              "            '<a target=\"_blank\" href=https://colab.research.google.com/notebooks/data_table.ipynb>data table notebook</a>'\n",
              "            + ' to learn more about interactive tables.';\n",
              "          element.innerHTML = '';\n",
              "          dataTable['output_type'] = 'display_data';\n",
              "          await google.colab.output.renderOutput(dataTable, element);\n",
              "          const docLink = document.createElement('div');\n",
              "          docLink.innerHTML = docLinkHtml;\n",
              "          element.appendChild(docLink);\n",
              "        }\n",
              "      </script>\n",
              "    </div>\n",
              "  </div>\n",
              "  "
            ]
          },
          "metadata": {},
          "execution_count": 71
        }
      ]
    },
    {
      "cell_type": "code",
      "source": [
        "X = perch.iloc[:, 2:].values"
      ],
      "metadata": {
        "id": "F8gEcXmkvicd"
      },
      "execution_count": null,
      "outputs": []
    },
    {
      "cell_type": "code",
      "source": [
        "y = perch['Weight'].values"
      ],
      "metadata": {
        "id": "BdYg_M67vp0e"
      },
      "execution_count": null,
      "outputs": []
    },
    {
      "cell_type": "code",
      "source": [
        "X[:5]"
      ],
      "metadata": {
        "colab": {
          "base_uri": "https://localhost:8080/"
        },
        "id": "chFTx-ZGv5U9",
        "outputId": "213d9e10-3a39-4d59-853d-b4b22731528e"
      },
      "execution_count": null,
      "outputs": [
        {
          "output_type": "execute_result",
          "data": {
            "text/plain": [
              "array([[ 8.4   ,  8.8   ,  2.112 ,  1.408 ],\n",
              "       [13.7   , 14.7   ,  3.528 ,  1.9992],\n",
              "       [15.    , 16.    ,  3.824 ,  2.432 ],\n",
              "       [16.2   , 17.2   ,  4.5924,  2.6316],\n",
              "       [17.4   , 18.5   ,  4.588 ,  2.9415]])"
            ]
          },
          "metadata": {},
          "execution_count": 80
        }
      ]
    },
    {
      "cell_type": "code",
      "source": [
        "y[:5]"
      ],
      "metadata": {
        "colab": {
          "base_uri": "https://localhost:8080/"
        },
        "id": "1yt-94_TwCHW",
        "outputId": "553b3727-5c56-4d8c-92f7-07da7176aa5d"
      },
      "execution_count": null,
      "outputs": [
        {
          "output_type": "execute_result",
          "data": {
            "text/plain": [
              "array([ 5.9, 32. , 40. , 51.5, 70. ])"
            ]
          },
          "metadata": {},
          "execution_count": 78
        }
      ]
    },
    {
      "cell_type": "markdown",
      "source": [
        "## Train/Test Split"
      ],
      "metadata": {
        "id": "pYO30luPwmCe"
      }
    },
    {
      "cell_type": "code",
      "source": [
        "X_tr, X_te, y_tr, y_te = train_test_split(X, y,\n",
        "                                          test_size=0.25,\n",
        "                                          random_state=42)"
      ],
      "metadata": {
        "id": "1DNBOrVKwpsW"
      },
      "execution_count": null,
      "outputs": []
    },
    {
      "cell_type": "markdown",
      "source": [
        "## KNN"
      ],
      "metadata": {
        "id": "9K3hgd79vMFt"
      }
    },
    {
      "cell_type": "code",
      "source": [
        "knn = KNeighborsRegressor() # 모델 생성\n",
        "knn.fit(X_tr, y_tr) # 모델 훈련"
      ],
      "metadata": {
        "colab": {
          "base_uri": "https://localhost:8080/"
        },
        "id": "l5q3OesQpAZo",
        "outputId": "b7ba37c1-99e6-48bb-a9d4-7d97089f6d78"
      },
      "execution_count": null,
      "outputs": [
        {
          "output_type": "execute_result",
          "data": {
            "text/plain": [
              "KNeighborsRegressor()"
            ]
          },
          "metadata": {},
          "execution_count": 82
        }
      ]
    },
    {
      "cell_type": "code",
      "source": [
        "y_tr_pred = knn.predict(X_tr) # 훈련 셋 예측값"
      ],
      "metadata": {
        "id": "efCSOGpfxDgj"
      },
      "execution_count": null,
      "outputs": []
    },
    {
      "cell_type": "code",
      "source": [
        "mse = mean_squared_error(y_tr, y_tr_pred)\n",
        "print('RMSE:', np.sqrt(mse)) "
      ],
      "metadata": {
        "colab": {
          "base_uri": "https://localhost:8080/"
        },
        "id": "FRNgBOi7xR4X",
        "outputId": "1bba093f-f570-4b91-a1a4-de5089ddd3be"
      },
      "execution_count": null,
      "outputs": [
        {
          "output_type": "stream",
          "name": "stdout",
          "text": [
            "RMSE: 54.64954145235237\n"
          ]
        }
      ]
    },
    {
      "cell_type": "code",
      "source": [
        "print('Train R2 score:', r2_score(y_tr, y_tr_pred))"
      ],
      "metadata": {
        "colab": {
          "base_uri": "https://localhost:8080/"
        },
        "id": "jmD-JH3Dxfzd",
        "outputId": "4edd52b5-f5b9-469b-f3b9-b247e50a828d"
      },
      "execution_count": null,
      "outputs": [
        {
          "output_type": "stream",
          "name": "stdout",
          "text": [
            "Train R2 score: 0.97579760182756\n"
          ]
        }
      ]
    },
    {
      "cell_type": "code",
      "source": [
        "y_te_pred = knn.predict(X_te) # 테스트 셋 예측값"
      ],
      "metadata": {
        "id": "fMNMRZumxzzk"
      },
      "execution_count": null,
      "outputs": []
    },
    {
      "cell_type": "code",
      "source": [
        "test_mse = mean_squared_error(y_te, y_te_pred)"
      ],
      "metadata": {
        "id": "0y6O3HSux-P1"
      },
      "execution_count": null,
      "outputs": []
    },
    {
      "cell_type": "code",
      "source": [
        "print('Test RMSE: ', np.sqrt(test_mse))"
      ],
      "metadata": {
        "colab": {
          "base_uri": "https://localhost:8080/"
        },
        "id": "PEAGVvdLyEX6",
        "outputId": "54b13082-5229-400a-ea92-2705e35b8e06"
      },
      "execution_count": null,
      "outputs": [
        {
          "output_type": "stream",
          "name": "stdout",
          "text": [
            "Test RMSE:  28.93630937075425\n"
          ]
        }
      ]
    },
    {
      "cell_type": "code",
      "source": [
        "print('Test R2 score:', r2_score(y_te, y_te_pred))"
      ],
      "metadata": {
        "colab": {
          "base_uri": "https://localhost:8080/"
        },
        "id": "pZiyE1zr0bBn",
        "outputId": "ccd78867-c91b-4cdb-8401-9fa73dc95ee8"
      },
      "execution_count": null,
      "outputs": [
        {
          "output_type": "stream",
          "name": "stdout",
          "text": [
            "Test R2 score: 0.9916579819676246\n"
          ]
        }
      ]
    },
    {
      "cell_type": "markdown",
      "source": [
        "* 과대적합(overfitting): 훈련 셋의 점수가 테스트 셋의 점수보다 훨씬 좋은 경우. \n",
        "    * 일반적으로 과대적합이 나타남.\n",
        "    * 과대적합의 크기를 줄여주는 것이 머신 러닝의 목적 중 하나.\n",
        "* 과소적합(underfitting): 훈련 셋의 점수가 테스트 셋의 점수보다 나쁜 경우.\n",
        "    * 일반적으로 과소적합은 흔히 나타나지 않음.\n",
        "    * 훈련/테스트 셋의 샘플 개수가 적으면 과소적합이 나타나기도 함.\n",
        "    * 데이터를 더 수집해서 샘플 개수를 늘려야 함."
      ],
      "metadata": {
        "id": "2cWAY5TmyULy"
      }
    },
    {
      "cell_type": "markdown",
      "source": [
        "## 1차항만 고려한 선형 회귀\n"
      ],
      "metadata": {
        "id": "VczVLh_y0vCQ"
      }
    },
    {
      "cell_type": "code",
      "source": [
        "lin_reg = LinearRegression() # 모델 생성\n",
        "lin_reg.fit(X_tr, y_tr) # 모델 훈련"
      ],
      "metadata": {
        "colab": {
          "base_uri": "https://localhost:8080/"
        },
        "id": "6ZVJ3mgyyJTD",
        "outputId": "89879198-e992-467b-cbd9-9439f5d8b02d"
      },
      "execution_count": null,
      "outputs": [
        {
          "output_type": "execute_result",
          "data": {
            "text/plain": [
              "LinearRegression()"
            ]
          },
          "metadata": {},
          "execution_count": 91
        }
      ]
    },
    {
      "cell_type": "code",
      "source": [
        "lin_reg.coef_"
      ],
      "metadata": {
        "colab": {
          "base_uri": "https://localhost:8080/"
        },
        "id": "jZBLdVNy1DpY",
        "outputId": "a175a3c2-15b7-41a1-99c3-75bd67822c35"
      },
      "execution_count": null,
      "outputs": [
        {
          "output_type": "execute_result",
          "data": {
            "text/plain": [
              "array([-40.18338554,  47.80681727,  67.34086612,  35.34904264])"
            ]
          },
          "metadata": {},
          "execution_count": 92
        }
      ]
    },
    {
      "cell_type": "code",
      "source": [
        "lin_reg.intercept_"
      ],
      "metadata": {
        "colab": {
          "base_uri": "https://localhost:8080/"
        },
        "id": "mFVQNkXB1FYx",
        "outputId": "575fbddd-c908-4086-96cd-a3260b6b8b74"
      },
      "execution_count": null,
      "outputs": [
        {
          "output_type": "execute_result",
          "data": {
            "text/plain": [
              "-610.0275364260515"
            ]
          },
          "metadata": {},
          "execution_count": 93
        }
      ]
    },
    {
      "cell_type": "code",
      "source": [
        "y_tr_pred = lin_reg.predict(X_tr)"
      ],
      "metadata": {
        "id": "GYYB6poh1HNo"
      },
      "execution_count": null,
      "outputs": []
    },
    {
      "cell_type": "code",
      "source": [
        "mse = mean_squared_error(y_tr, y_tr_pred)\n",
        "print('Train RMSE:', np.sqrt(mse))\n",
        "print('Train R2 score:', r2_score(y_tr, y_tr_pred))"
      ],
      "metadata": {
        "colab": {
          "base_uri": "https://localhost:8080/"
        },
        "id": "66MAadTD1oDX",
        "outputId": "83d3c292-0e7d-4978-f206-d29c98502ecc"
      },
      "execution_count": null,
      "outputs": [
        {
          "output_type": "stream",
          "name": "stdout",
          "text": [
            "Train RMSE: 73.07651173088372\n",
            "Train R2 score: 0.9567246116638569\n"
          ]
        }
      ]
    },
    {
      "cell_type": "markdown",
      "source": [
        "KNN의 훈련 점수보다 나쁨"
      ],
      "metadata": {
        "id": "LQCU1mG_1_F6"
      }
    },
    {
      "cell_type": "code",
      "source": [
        "y_te_pred = lin_reg.predict(X_te)\n",
        "test_mse = mean_squared_error(y_te, y_te_pred)\n",
        "print('Test RMSE:', np.sqrt(test_mse))\n",
        "print('Test R2 score:', r2_score(y_te, y_te_pred))"
      ],
      "metadata": {
        "colab": {
          "base_uri": "https://localhost:8080/"
        },
        "id": "zo6zd4dI19ni",
        "outputId": "0c47f475-6cbe-409d-fdc5-16d67aeca8a8"
      },
      "execution_count": null,
      "outputs": [
        {
          "output_type": "stream",
          "name": "stdout",
          "text": [
            "Test RMSE: 110.183531090199\n",
            "Test R2 score: 0.8790465615990273\n"
          ]
        }
      ]
    },
    {
      "cell_type": "markdown",
      "source": [
        "KNN의 테스트 점수보다 나쁨"
      ],
      "metadata": {
        "id": "JG8R6s5p2hwh"
      }
    },
    {
      "cell_type": "markdown",
      "source": [
        "## 2차항까지 고려한 선형 회귀"
      ],
      "metadata": {
        "id": "MjLd_xe_20Eh"
      }
    },
    {
      "cell_type": "markdown",
      "source": [
        "Piepeline = 변환기1 + 변환기2 + ... + 예측기"
      ],
      "metadata": {
        "id": "8z16pTmX6_UD"
      }
    },
    {
      "cell_type": "code",
      "source": [
        "poly_features = PolynomialFeatures(include_bias=False) # 2차항을 추가하는 변환기\n",
        "lin_reg = LinearRegression() # 선형 회귀 모델 \n",
        "\n",
        "# PolynomialReatures + LinearRegression ==> Pipeline \n",
        "pipe = Pipeline([('poly', poly_features),\n",
        "                 ('reg', lin_reg)])"
      ],
      "metadata": {
        "id": "dhmw6qpF2ceS"
      },
      "execution_count": null,
      "outputs": []
    },
    {
      "cell_type": "code",
      "source": [
        "pipe"
      ],
      "metadata": {
        "colab": {
          "base_uri": "https://localhost:8080/"
        },
        "id": "gxDggHs537Qy",
        "outputId": "bb2c02a5-bba7-47c5-d1fe-e6dd4d113ba5"
      },
      "execution_count": null,
      "outputs": [
        {
          "output_type": "execute_result",
          "data": {
            "text/plain": [
              "Pipeline(steps=[('poly', PolynomialFeatures(include_bias=False)),\n",
              "                ('reg', LinearRegression())])"
            ]
          },
          "metadata": {},
          "execution_count": 103
        }
      ]
    },
    {
      "cell_type": "code",
      "source": [
        "pipe.fit(X_tr, y_tr) # 모델 훈련\n",
        "# pipe 내부: (1) poly.fit_transform(X_tr), (2) reg.fit(X_tr변환)"
      ],
      "metadata": {
        "colab": {
          "base_uri": "https://localhost:8080/"
        },
        "id": "p7qmPoOz5_Jf",
        "outputId": "0952d325-fb05-4b7f-891d-03c7b47cd9e1"
      },
      "execution_count": null,
      "outputs": [
        {
          "output_type": "execute_result",
          "data": {
            "text/plain": [
              "Pipeline(steps=[('poly', PolynomialFeatures(include_bias=False)),\n",
              "                ('reg', LinearRegression())])"
            ]
          },
          "metadata": {},
          "execution_count": 104
        }
      ]
    },
    {
      "cell_type": "code",
      "source": [
        "pipe['reg'].coef_"
      ],
      "metadata": {
        "colab": {
          "base_uri": "https://localhost:8080/"
        },
        "id": "FbhI_vj66KmA",
        "outputId": "0d7c5582-981a-4c0f-9dae-7624d0fb0e36"
      },
      "execution_count": null,
      "outputs": [
        {
          "output_type": "execute_result",
          "data": {
            "text/plain": [
              "array([ -50.78509594,  124.88041222, -226.27583652, -211.15974936,\n",
              "        219.94801311, -378.27754255, -310.06984107,  301.69060933,\n",
              "        155.92749428,  315.3374506 , -269.45161891,   24.76034853,\n",
              "       -176.24019353,  126.39216926])"
            ]
          },
          "metadata": {},
          "execution_count": 107
        }
      ]
    },
    {
      "cell_type": "code",
      "source": [
        "pipe['poly']"
      ],
      "metadata": {
        "colab": {
          "base_uri": "https://localhost:8080/"
        },
        "id": "kkmUysQO6n2m",
        "outputId": "28370ef5-ff72-41a4-e43b-d8db10e4a48a"
      },
      "execution_count": null,
      "outputs": [
        {
          "output_type": "execute_result",
          "data": {
            "text/plain": [
              "PolynomialFeatures(include_bias=False)"
            ]
          },
          "metadata": {},
          "execution_count": 106
        }
      ]
    },
    {
      "cell_type": "code",
      "source": [
        "pipe['reg'].intercept_"
      ],
      "metadata": {
        "colab": {
          "base_uri": "https://localhost:8080/"
        },
        "id": "PYsqul4F6thj",
        "outputId": "c3c2664d-8c42-4796-d5e8-37fcf7a0745d"
      },
      "execution_count": null,
      "outputs": [
        {
          "output_type": "execute_result",
          "data": {
            "text/plain": [
              "67.36628210088094"
            ]
          },
          "metadata": {},
          "execution_count": 108
        }
      ]
    },
    {
      "cell_type": "code",
      "source": [
        "print('Train R2 score: ', pipe.score(X_tr, y_tr))"
      ],
      "metadata": {
        "colab": {
          "base_uri": "https://localhost:8080/"
        },
        "id": "fL-u9hsu7psq",
        "outputId": "b4b9ae4f-9405-40ae-91d3-16151c9c5fdd"
      },
      "execution_count": null,
      "outputs": [
        {
          "output_type": "stream",
          "name": "stdout",
          "text": [
            "Train R2 score:  0.9920055538341062\n"
          ]
        }
      ]
    },
    {
      "cell_type": "code",
      "source": [
        "print('Test R2 score: ', pipe.score(X_te, y_te))"
      ],
      "metadata": {
        "colab": {
          "base_uri": "https://localhost:8080/"
        },
        "id": "Kbh84l727-b2",
        "outputId": "89b73165-ba8c-4da8-c9e7-b1f0f69a5cb2"
      },
      "execution_count": null,
      "outputs": [
        {
          "output_type": "stream",
          "name": "stdout",
          "text": [
            "Test R2 score:  0.9492609601552375\n"
          ]
        }
      ]
    },
    {
      "cell_type": "code",
      "source": [],
      "metadata": {
        "id": "1hbYUM398QJl"
      },
      "execution_count": null,
      "outputs": []
    }
  ]
}